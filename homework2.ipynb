{
 "cells": [
  {
   "cell_type": "code",
   "execution_count": 1,
   "metadata": {},
   "outputs": [],
   "source": [
    "import numpy \n",
    "import os"
   ]
  },
  {
   "cell_type": "code",
   "execution_count": 2,
   "metadata": {},
   "outputs": [],
   "source": [
    "data_path = os.path.join('data', 'water.xyz')"
   ]
  },
  {
   "cell_type": "code",
   "execution_count": 3,
   "metadata": {},
   "outputs": [],
   "source": [
    "data = numpy.genfromtxt(data_path, dtype = 'unicode', skip_header = 2)"
   ]
  },
  {
   "cell_type": "code",
   "execution_count": 4,
   "metadata": {},
   "outputs": [
    {
     "data": {
      "text/plain": [
       "array([['O', '0.000000', '-0.007156', '0.965491'],\n",
       "       ['H1', '-0.000000', '0.001486', '-0.003471'],\n",
       "       ['H2', '0.000000', '0.931026', '1.207929']], dtype='<U9')"
      ]
     },
     "execution_count": 4,
     "metadata": {},
     "output_type": "execute_result"
    }
   ],
   "source": [
    "data"
   ]
  },
  {
   "cell_type": "code",
   "execution_count": 5,
   "metadata": {},
   "outputs": [
    {
     "data": {
      "text/plain": [
       "array(['O', 'H1', 'H2'], dtype='<U9')"
      ]
     },
     "execution_count": 5,
     "metadata": {},
     "output_type": "execute_result"
    }
   ],
   "source": [
    "atom_type = data [:,0]\n",
    "atom_type\n"
   ]
  },
  {
   "cell_type": "code",
   "execution_count": 6,
   "metadata": {},
   "outputs": [
    {
     "name": "stdout",
     "output_type": "stream",
     "text": [
      "['O' 'H1' 'H2']\n"
     ]
    }
   ],
   "source": [
    "print(atom_type)"
   ]
  },
  {
   "cell_type": "code",
   "execution_count": 7,
   "metadata": {},
   "outputs": [
    {
     "name": "stdout",
     "output_type": "stream",
     "text": [
      "[['0.000000' '-0.007156' '0.965491']\n",
      " ['-0.000000' '0.001486' '-0.003471']\n",
      " ['0.000000' '0.931026' '1.207929']]\n"
     ]
    }
   ],
   "source": [
    "position = data[:, 1:]\n",
    "print (position)"
   ]
  },
  {
   "cell_type": "code",
   "execution_count": 8,
   "metadata": {},
   "outputs": [],
   "source": [
    "position = position.astype(numpy.float)"
   ]
  },
  {
   "cell_type": "code",
   "execution_count": 9,
   "metadata": {},
   "outputs": [
    {
     "data": {
      "text/plain": [
       "array([[ 0.      , -0.007156,  0.965491],\n",
       "       [-0.      ,  0.001486, -0.003471],\n",
       "       [ 0.      ,  0.931026,  1.207929]])"
      ]
     },
     "execution_count": 9,
     "metadata": {},
     "output_type": "execute_result"
    }
   ],
   "source": [
    "position"
   ]
  },
  {
   "cell_type": "code",
   "execution_count": 10,
   "metadata": {},
   "outputs": [
    {
     "ename": "SyntaxError",
     "evalue": "unexpected EOF while parsing (<ipython-input-10-9cec14d9006f>, line 7)",
     "output_type": "error",
     "traceback": [
      "\u001b[0;36m  File \u001b[0;32m\"<ipython-input-10-9cec14d9006f>\"\u001b[0;36m, line \u001b[0;32m7\u001b[0m\n\u001b[0;31m    print (i)\u001b[0m\n\u001b[0m                         ^\u001b[0m\n\u001b[0;31mSyntaxError\u001b[0m\u001b[0;31m:\u001b[0m unexpected EOF while parsing\n"
     ]
    }
   ],
   "source": [
    "for i in range [0, len(atom_type)]:\n",
    "    for k in range [0, len(atom_type):\n",
    "        \n",
    "#        distance = numpy.sqrt((position[0, i]-position[0, k])**2 + (position[1, i]-position[1, k])**2 + (position[2, i]-position[2, k])**2)\n",
    "#        print( numpy.sqrt((position[0, i] - position[0, k])**2))\n",
    "\n",
    "        print (i)            "
   ]
  },
  {
   "cell_type": "code",
   "execution_count": null,
   "metadata": {},
   "outputs": [],
   "source": [
    "position[0,0]"
   ]
  },
  {
   "cell_type": "code",
   "execution_count": null,
   "metadata": {},
   "outputs": [],
   "source": [
    "k"
   ]
  },
  {
   "cell_type": "code",
   "execution_count": null,
   "metadata": {},
   "outputs": [],
   "source": [
    "i"
   ]
  },
  {
   "cell_type": "code",
   "execution_count": null,
   "metadata": {},
   "outputs": [],
   "source": [
    "len(atom_type)"
   ]
  },
  {
   "cell_type": "code",
   "execution_count": null,
   "metadata": {},
   "outputs": [],
   "source": [
    "numpy.sqrt((position[0,1]-position[0,2])**2)"
   ]
  },
  {
   "cell_type": "code",
   "execution_count": null,
   "metadata": {},
   "outputs": [],
   "source": [
    "for i in range (0, len(atom_type)):\n",
    "    for k in range (0, len(atom_type)):\n",
    "        distance = numpy.sqrt((position[i,0]-position[k,0])**2 + (position[i,1]-position[k,1])**2 + (position[i,2]-position[k,2])**2)\n",
    "        print (F' {atom_type[i]} to {atom_type[k]} : {distance:.3f}')"
   ]
  },
  {
   "cell_type": "code",
   "execution_count": null,
   "metadata": {},
   "outputs": [],
   "source": [
    "len(atom_type)"
   ]
  },
  {
   "cell_type": "code",
   "execution_count": 14,
   "metadata": {},
   "outputs": [
    {
     "name": "stdout",
     "output_type": "stream",
     "text": [
      " O to O : 0.000\n",
      " O to H1 : 0.969\n",
      " O to H2 : 0.969\n",
      " H1 to O : 0.969\n",
      " H1 to H1 : 0.000\n",
      " H1 to H2 : 1.527\n",
      " H2 to O : 0.969\n",
      " H2 to H1 : 1.527\n",
      " H2 to H2 : 0.000\n",
      "\n",
      "\n",
      " O to H1 : 0.969\n",
      " O to H2 : 0.969\n",
      " H1 to H2 : 1.527\n",
      "\n",
      "\n",
      " O to H1 : 0.969\n",
      " O to H2 : 0.969\n"
     ]
    }
   ],
   "source": [
    "#### FINAL\n",
    "\n",
    "import numpy as np\n",
    "import os \n",
    "\n",
    "data_path = os.path.join('data', 'water.xyz')\n",
    "data = numpy.genfromtxt(data_path, dtype = 'unicode', skip_header = 2)\n",
    "\n",
    "atom_type = data [:,0]\n",
    "position = data[:, 1:]\n",
    "position = position.astype(numpy.float)\n",
    "\n",
    "#print all the distances\n",
    "\n",
    "for i in range (0, len(atom_type)):\n",
    "    for k in range (0, len(atom_type)):\n",
    "        \n",
    "        distance = numpy.sqrt((position[i,0]-position[k,0])**2 + (position[i,1]-position[k,1])**2 + (position[i,2]-position[k,2])**2)\n",
    "        print (F' {atom_type[i]} to {atom_type[k]} : {distance:.3f}')\n",
    "        \n",
    "#print distances \n",
    "\n",
    "print(F'\\n')\n",
    "\n",
    "for i in range (0, len(atom_type)-1):\n",
    "    for k in range (i+1, len(atom_type)):\n",
    "        distance = numpy.sqrt((position[i,0]-position[k,0])**2 + (position[i,1]-position[k,1])**2 + (position[i,2]-position[k,2])**2)\n",
    "        print (F' {atom_type[i]} to {atom_type[k]} : {distance:.3f}')\n",
    "        \n",
    "print(F'\\n')\n",
    "\n",
    "for i in range (0, len(atom_type)-1):\n",
    "    for k in range (0, len(atom_type)):\n",
    "        if i < k:\n",
    "            x_distance = position[i,0]-position[k,0]\n",
    "            y_distance = position[i,1]-position[k,1]\n",
    "            z_distance = position[i,2]-position[k,2]\n",
    "            distance = numpy.sqrt((position[i,0]-position[k,0])**2 + (position[i,1]-position[k,1])**2 + (position[i,2]-position[k,2])**2)\n",
    "            if distance <= 1.5: \n",
    "                print (F' {atom_type[i]} to {atom_type[k]} : {distance:.3f}')\n",
    "        \n"
   ]
  },
  {
   "cell_type": "markdown",
   "metadata": {},
   "source": [
    "$ distance = \\sqrt {(x1-x2)^2 + (y1-y2)^2 + (z1-z2)^2} $"
   ]
  },
  {
   "cell_type": "code",
   "execution_count": null,
   "metadata": {},
   "outputs": [],
   "source": []
  }
 ],
 "metadata": {
  "kernelspec": {
   "display_name": "Python 3",
   "language": "python",
   "name": "python3"
  },
  "language_info": {
   "codemirror_mode": {
    "name": "ipython",
    "version": 3
   },
   "file_extension": ".py",
   "mimetype": "text/x-python",
   "name": "python",
   "nbconvert_exporter": "python",
   "pygments_lexer": "ipython3",
   "version": "3.7.6"
  }
 },
 "nbformat": 4,
 "nbformat_minor": 4
}
