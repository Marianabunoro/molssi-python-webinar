{
 "cells": [
  {
   "cell_type": "markdown",
   "metadata": {},
   "source": [
    "## Homework"
   ]
  },
  {
   "cell_type": "code",
   "execution_count": 1,
   "metadata": {},
   "outputs": [],
   "source": [
    "import os\n"
   ]
  },
  {
   "cell_type": "code",
   "execution_count": 2,
   "metadata": {},
   "outputs": [
    {
     "name": "stdout",
     "output_type": "stream",
     "text": [
      "\u001b[0m\u001b[01;34mdata\u001b[0m/         file-parsing.ipynb  homework_result1.txt  \u001b[01;34m__MACOSX\u001b[0m/\r\n",
      "energies.txt  Homework.ipynb      introduction.ipynb    Untitled.ipynb\r\n"
     ]
    }
   ],
   "source": [
    "ls\n"
   ]
  },
  {
   "cell_type": "code",
   "execution_count": 3,
   "metadata": {},
   "outputs": [
    {
     "name": "stdout",
     "output_type": "stream",
     "text": [
      "03_Prod.mdout  buckminsterfullerene.xyz   \u001b[0m\u001b[01;34moutfiles\u001b[0m/  water.xyz\r\n",
      "benzene.xyz    distance_data_headers.csv  sapt.out\r\n"
     ]
    }
   ],
   "source": [
    "ls data/"
   ]
  },
  {
   "cell_type": "code",
   "execution_count": 4,
   "metadata": {},
   "outputs": [],
   "source": [
    "out_file = os.path.join('data', '03_Prod.mdout')"
   ]
  },
  {
   "cell_type": "code",
   "execution_count": 5,
   "metadata": {},
   "outputs": [
    {
     "data": {
      "text/plain": [
       "'data/03_Prod.mdout'"
      ]
     },
     "execution_count": 5,
     "metadata": {},
     "output_type": "execute_result"
    }
   ],
   "source": [
    "out_file"
   ]
  },
  {
   "cell_type": "code",
   "execution_count": 6,
   "metadata": {},
   "outputs": [],
   "source": [
    "file = open(out_file, 'r')\n",
    "data = file.readlines()\n",
    "file.close()"
   ]
  },
  {
   "cell_type": "code",
   "execution_count": 7,
   "metadata": {},
   "outputs": [
    {
     "data": {
      "text/plain": [
       "3547"
      ]
     },
     "execution_count": 7,
     "metadata": {},
     "output_type": "execute_result"
    }
   ],
   "source": [
    "len(data)"
   ]
  },
  {
   "cell_type": "code",
   "execution_count": 8,
   "metadata": {},
   "outputs": [
    {
     "ename": "NameError",
     "evalue": "name 'E_tot' is not defined",
     "output_type": "error",
     "traceback": [
      "\u001b[0;31m---------------------------------------------------------------------------\u001b[0m",
      "\u001b[0;31mNameError\u001b[0m                                 Traceback (most recent call last)",
      "\u001b[0;32m<ipython-input-8-cce11a99fc51>\u001b[0m in \u001b[0;36m<module>\u001b[0;34m\u001b[0m\n\u001b[1;32m     11\u001b[0m         \u001b[0mE_tot\u001b[0m \u001b[0;34m=\u001b[0m \u001b[0mE_tot_aux\u001b[0m\u001b[0;34m.\u001b[0m\u001b[0msplit\u001b[0m\u001b[0;34m(\u001b[0m\u001b[0;34m)\u001b[0m\u001b[0;34m[\u001b[0m\u001b[0;36m2\u001b[0m\u001b[0;34m]\u001b[0m\u001b[0;34m\u001b[0m\u001b[0;34m\u001b[0m\u001b[0m\n\u001b[1;32m     12\u001b[0m \u001b[0;34m\u001b[0m\u001b[0m\n\u001b[0;32m---> 13\u001b[0;31m     \u001b[0mfilehandle\u001b[0m\u001b[0;34m.\u001b[0m\u001b[0mwrite\u001b[0m\u001b[0;34m(\u001b[0m\u001b[0;34mF'{E_tot} \\n'\u001b[0m\u001b[0;34m)\u001b[0m\u001b[0;34m\u001b[0m\u001b[0;34m\u001b[0m\u001b[0m\n\u001b[0m\u001b[1;32m     14\u001b[0m \u001b[0mfilehandle\u001b[0m\u001b[0;34m.\u001b[0m\u001b[0mclose\u001b[0m\u001b[0;34m(\u001b[0m\u001b[0;34m)\u001b[0m\u001b[0;34m\u001b[0m\u001b[0;34m\u001b[0m\u001b[0m\n\u001b[1;32m     15\u001b[0m \u001b[0;34m\u001b[0m\u001b[0m\n",
      "\u001b[0;31mNameError\u001b[0m: name 'E_tot' is not defined"
     ]
    }
   ],
   "source": [
    "filehandle = open('homework_result1.txt', 'w+')\n",
    "\n",
    "for lines in data:\n",
    "    if 'NSTEP' in lines:\n",
    "        nstep_aux = lines\n",
    "        nstep = nstep_aux.split()[2]\n",
    "  #      print (nstep)\n",
    "        \n",
    "    elif 'Etot' in lines:\n",
    "        E_tot_aux = lines\n",
    "        E_tot = E_tot_aux.split()[2]\n",
    "    \n",
    "    filehandle.write(F'{E_tot} \\n')\n",
    "filehandle.close()\n",
    "        "
   ]
  },
  {
   "cell_type": "code",
   "execution_count": null,
   "metadata": {},
   "outputs": [],
   "source": [
    "nstep"
   ]
  },
  {
   "cell_type": "code",
   "execution_count": null,
   "metadata": {},
   "outputs": [],
   "source": [
    "filehandle = open('homework_result2.txt', 'w+')\n",
    "\n",
    "for lines in data:\n",
    "    if 'NSTEP' in lines:\n",
    "        nstep_aux = lines\n",
    "        nstep = nstep_aux.split()[2]\n",
    "  #      print (nstep)\n",
    "        \n",
    "    if 'Etot' in lines:\n",
    "        E_tot_aux = lines\n",
    "        E_tot = E_tot_aux.split()[2]\n",
    "    \n",
    "        filehandle.write(F'{E_tot} \\n')\n",
    "filehandle.close()\n",
    "        "
   ]
  },
  {
   "cell_type": "code",
   "execution_count": 10,
   "metadata": {},
   "outputs": [],
   "source": [
    "filehandle = open('homework_result1.txt', 'w+')\n",
    "\n",
    "for lines in data:\n",
    "        \n",
    "    if 'Etot' in lines:\n",
    "        E_tot_aux = lines\n",
    "        E_tot = E_tot_aux.split()[2]\n",
    "        filehandle.write(F'{nstep} \\t {E_tot} \\n' )\n",
    "    \n",
    "    if 'NSTEP' in lines:\n",
    "        nstep_aux = lines\n",
    "        nstep = nstep_aux.split()[2]\n",
    "  #      print (nstep)\n",
    "\n",
    "    \n",
    "  #      filehandle.write(F'{E_tot} \\n')\n",
    "filehandle.close()"
   ]
  },
  {
   "cell_type": "code",
   "execution_count": null,
   "metadata": {},
   "outputs": [],
   "source": []
  }
 ],
 "metadata": {
  "kernelspec": {
   "display_name": "Python 3",
   "language": "python",
   "name": "python3"
  },
  "language_info": {
   "codemirror_mode": {
    "name": "ipython",
    "version": 3
   },
   "file_extension": ".py",
   "mimetype": "text/x-python",
   "name": "python",
   "nbconvert_exporter": "python",
   "pygments_lexer": "ipython3",
   "version": "3.7.6"
  }
 },
 "nbformat": 4,
 "nbformat_minor": 4
}
